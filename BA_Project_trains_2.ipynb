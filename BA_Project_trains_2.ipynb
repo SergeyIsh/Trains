{
 "cells": [
  {
   "cell_type": "code",
   "execution_count": 2,
   "metadata": {
    "id": "oPL3VGO9NnXG"
   },
   "outputs": [],
   "source": [
    "import pandas as pd\n",
    "import numpy as np\n",
    "import scipy.stats as ss"
   ]
  },
  {
   "cell_type": "markdown",
   "metadata": {},
   "source": [
    "Data Preparation"
   ]
  },
  {
   "cell_type": "code",
   "execution_count": 18,
   "metadata": {
    "id": "2qtFsrEmOCJD"
   },
   "outputs": [],
   "source": [
    "trains = pd.read_excel('Trains.xlsx')"
   ]
  },
  {
   "cell_type": "code",
   "execution_count": 19,
   "metadata": {
    "colab": {
     "base_uri": "https://localhost:8080/",
     "height": 488
    },
    "id": "oRTqsy4kOI6m",
    "outputId": "a1212126-1b85-4e28-e475-f58bc1c123d2"
   },
   "outputs": [
    {
     "data": {
      "text/html": [
       "<div>\n",
       "<style scoped>\n",
       "    .dataframe tbody tr th:only-of-type {\n",
       "        vertical-align: middle;\n",
       "    }\n",
       "\n",
       "    .dataframe tbody tr th {\n",
       "        vertical-align: top;\n",
       "    }\n",
       "\n",
       "    .dataframe thead th {\n",
       "        text-align: right;\n",
       "    }\n",
       "</style>\n",
       "<table border=\"1\" class=\"dataframe\">\n",
       "  <thead>\n",
       "    <tr style=\"text-align: right;\">\n",
       "      <th></th>\n",
       "      <th>Линия</th>\n",
       "      <th>Количество поездов</th>\n",
       "      <th>Время проезда по линии</th>\n",
       "    </tr>\n",
       "  </thead>\n",
       "  <tbody>\n",
       "    <tr>\n",
       "      <th>0</th>\n",
       "      <td>Сокольническая линия</td>\n",
       "      <td>76</td>\n",
       "      <td>67</td>\n",
       "    </tr>\n",
       "    <tr>\n",
       "      <th>1</th>\n",
       "      <td>Замоскворецкая линия</td>\n",
       "      <td>80</td>\n",
       "      <td>64</td>\n",
       "    </tr>\n",
       "    <tr>\n",
       "      <th>2</th>\n",
       "      <td>Арбатско-Покровская линия</td>\n",
       "      <td>80</td>\n",
       "      <td>63</td>\n",
       "    </tr>\n",
       "    <tr>\n",
       "      <th>3</th>\n",
       "      <td>Кольцевая линия</td>\n",
       "      <td>35</td>\n",
       "      <td>30</td>\n",
       "    </tr>\n",
       "    <tr>\n",
       "      <th>4</th>\n",
       "      <td>Калужско-Рижская линия</td>\n",
       "      <td>96</td>\n",
       "      <td>73</td>\n",
       "    </tr>\n",
       "    <tr>\n",
       "      <th>5</th>\n",
       "      <td>Таганско-Краснопресненская линия</td>\n",
       "      <td>85</td>\n",
       "      <td>64</td>\n",
       "    </tr>\n",
       "    <tr>\n",
       "      <th>6</th>\n",
       "      <td>Большая кольцевая линия</td>\n",
       "      <td>47</td>\n",
       "      <td>43</td>\n",
       "    </tr>\n",
       "    <tr>\n",
       "      <th>7</th>\n",
       "      <td>Серпуховско-Тимирязевская линия</td>\n",
       "      <td>90</td>\n",
       "      <td>61</td>\n",
       "    </tr>\n",
       "    <tr>\n",
       "      <th>8</th>\n",
       "      <td>Бутовская линия Лёгкого метро</td>\n",
       "      <td>24</td>\n",
       "      <td>16</td>\n",
       "    </tr>\n",
       "    <tr>\n",
       "      <th>9</th>\n",
       "      <td>Филёвская линия</td>\n",
       "      <td>27</td>\n",
       "      <td>23</td>\n",
       "    </tr>\n",
       "    <tr>\n",
       "      <th>10</th>\n",
       "      <td>Калининская линия</td>\n",
       "      <td>31</td>\n",
       "      <td>21</td>\n",
       "    </tr>\n",
       "    <tr>\n",
       "      <th>11</th>\n",
       "      <td>Люблинско-Дмитровская линия</td>\n",
       "      <td>83</td>\n",
       "      <td>57</td>\n",
       "    </tr>\n",
       "    <tr>\n",
       "      <th>12</th>\n",
       "      <td>Солнцевская линия</td>\n",
       "      <td>33</td>\n",
       "      <td>31</td>\n",
       "    </tr>\n",
       "    <tr>\n",
       "      <th>13</th>\n",
       "      <td>Некрасовская линия</td>\n",
       "      <td>24</td>\n",
       "      <td>30</td>\n",
       "    </tr>\n",
       "  </tbody>\n",
       "</table>\n",
       "</div>"
      ],
      "text/plain": [
       "                               Линия  Количество поездов  \\\n",
       "0               Сокольническая линия                  76   \n",
       "1               Замоскворецкая линия                  80   \n",
       "2          Арбатско-Покровская линия                  80   \n",
       "3                    Кольцевая линия                  35   \n",
       "4             Калужско-Рижская линия                  96   \n",
       "5   Таганско-Краснопресненская линия                  85   \n",
       "6            Большая кольцевая линия                  47   \n",
       "7    Серпуховско-Тимирязевская линия                  90   \n",
       "8      Бутовская линия Лёгкого метро                  24   \n",
       "9                    Филёвская линия                  27   \n",
       "10                 Калининская линия                  31   \n",
       "11       Люблинско-Дмитровская линия                  83   \n",
       "12                 Солнцевская линия                  33   \n",
       "13                Некрасовская линия                  24   \n",
       "\n",
       "    Время проезда по линии  \n",
       "0                       67  \n",
       "1                       64  \n",
       "2                       63  \n",
       "3                       30  \n",
       "4                       73  \n",
       "5                       64  \n",
       "6                       43  \n",
       "7                       61  \n",
       "8                       16  \n",
       "9                       23  \n",
       "10                      21  \n",
       "11                      57  \n",
       "12                      31  \n",
       "13                      30  "
      ]
     },
     "execution_count": 19,
     "metadata": {},
     "output_type": "execute_result"
    }
   ],
   "source": [
    "trains"
   ]
  },
  {
   "cell_type": "code",
   "execution_count": 20,
   "metadata": {
    "colab": {
     "base_uri": "https://localhost:8080/"
    },
    "id": "wd3kwYAsONpd",
    "outputId": "cf7f143c-38d4-4bcd-b6e7-f01348bbad61"
   },
   "outputs": [
    {
     "name": "stderr",
     "output_type": "stream",
     "text": [
      "C:\\Users\\Adrey\\anaconda3\\lib\\site-packages\\openpyxl\\styles\\stylesheet.py:226: UserWarning: Workbook contains no default style, apply openpyxl's default\n",
      "  warn(\"Workbook contains no default style, apply openpyxl's default\")\n"
     ]
    }
   ],
   "source": [
    "pas = pd.read_excel('Passengers.xlsx')"
   ]
  },
  {
   "cell_type": "code",
   "execution_count": 21,
   "metadata": {
    "colab": {
     "base_uri": "https://localhost:8080/",
     "height": 426
    },
    "id": "Ol6SeU08T0Za",
    "outputId": "4cf74c40-aed7-4bec-c365-743b2122d683"
   },
   "outputs": [
    {
     "data": {
      "text/html": [
       "<div>\n",
       "<style scoped>\n",
       "    .dataframe tbody tr th:only-of-type {\n",
       "        vertical-align: middle;\n",
       "    }\n",
       "\n",
       "    .dataframe tbody tr th {\n",
       "        vertical-align: top;\n",
       "    }\n",
       "\n",
       "    .dataframe thead th {\n",
       "        text-align: right;\n",
       "    }\n",
       "</style>\n",
       "<table border=\"1\" class=\"dataframe\">\n",
       "  <thead>\n",
       "    <tr style=\"text-align: right;\">\n",
       "      <th></th>\n",
       "      <th>NameOfStation</th>\n",
       "      <th>Line</th>\n",
       "      <th>Year</th>\n",
       "      <th>Quarter</th>\n",
       "      <th>IncomingPassengers</th>\n",
       "      <th>OutgoingPassengers</th>\n",
       "      <th>global_id</th>\n",
       "      <th>NameOfStation_en</th>\n",
       "      <th>Line_en</th>\n",
       "      <th>Year_en</th>\n",
       "      <th>Quarter_en</th>\n",
       "      <th>IncomingPassengers_en</th>\n",
       "      <th>OutgoingPassengers_en</th>\n",
       "    </tr>\n",
       "  </thead>\n",
       "  <tbody>\n",
       "    <tr>\n",
       "      <th>0</th>\n",
       "      <td>Станция метрополитена</td>\n",
       "      <td>Линия</td>\n",
       "      <td>Год</td>\n",
       "      <td>Квартал</td>\n",
       "      <td>Входы пассажиров</td>\n",
       "      <td>Выходы пассажиров</td>\n",
       "      <td>global_id</td>\n",
       "      <td>NameOfStation_en</td>\n",
       "      <td>Line_en</td>\n",
       "      <td>Year_en</td>\n",
       "      <td>Quarter_en</td>\n",
       "      <td>IncomingPassengers_en</td>\n",
       "      <td>OutgoingPassengers_en</td>\n",
       "    </tr>\n",
       "    <tr>\n",
       "      <th>1</th>\n",
       "      <td>Митино</td>\n",
       "      <td>Арбатско-Покровская линия</td>\n",
       "      <td>2021</td>\n",
       "      <td>I квартал</td>\n",
       "      <td>1913498</td>\n",
       "      <td>1829031</td>\n",
       "      <td>1138975996</td>\n",
       "      <td>NaN</td>\n",
       "      <td>NaN</td>\n",
       "      <td>NaN</td>\n",
       "      <td>NaN</td>\n",
       "      <td>NaN</td>\n",
       "      <td>NaN</td>\n",
       "    </tr>\n",
       "    <tr>\n",
       "      <th>2</th>\n",
       "      <td>Волоколамская</td>\n",
       "      <td>Арбатско-Покровская линия</td>\n",
       "      <td>2021</td>\n",
       "      <td>I квартал</td>\n",
       "      <td>1236714</td>\n",
       "      <td>1222309</td>\n",
       "      <td>1138975997</td>\n",
       "      <td>NaN</td>\n",
       "      <td>NaN</td>\n",
       "      <td>NaN</td>\n",
       "      <td>NaN</td>\n",
       "      <td>NaN</td>\n",
       "      <td>NaN</td>\n",
       "    </tr>\n",
       "    <tr>\n",
       "      <th>3</th>\n",
       "      <td>Строгино</td>\n",
       "      <td>Арбатско-Покровская линия</td>\n",
       "      <td>2021</td>\n",
       "      <td>I квартал</td>\n",
       "      <td>1938816</td>\n",
       "      <td>1903731</td>\n",
       "      <td>1138975999</td>\n",
       "      <td>NaN</td>\n",
       "      <td>NaN</td>\n",
       "      <td>NaN</td>\n",
       "      <td>NaN</td>\n",
       "      <td>NaN</td>\n",
       "      <td>NaN</td>\n",
       "    </tr>\n",
       "    <tr>\n",
       "      <th>4</th>\n",
       "      <td>Крылатское</td>\n",
       "      <td>Арбатско-Покровская линия</td>\n",
       "      <td>2021</td>\n",
       "      <td>I квартал</td>\n",
       "      <td>1849616</td>\n",
       "      <td>1818208</td>\n",
       "      <td>1138976000</td>\n",
       "      <td>NaN</td>\n",
       "      <td>NaN</td>\n",
       "      <td>NaN</td>\n",
       "      <td>NaN</td>\n",
       "      <td>NaN</td>\n",
       "      <td>NaN</td>\n",
       "    </tr>\n",
       "  </tbody>\n",
       "</table>\n",
       "</div>"
      ],
      "text/plain": [
       "           NameOfStation                       Line  Year    Quarter  \\\n",
       "0  Станция метрополитена                      Линия   Год    Квартал   \n",
       "1                 Митино  Арбатско-Покровская линия  2021  I квартал   \n",
       "2          Волоколамская  Арбатско-Покровская линия  2021  I квартал   \n",
       "3               Строгино  Арбатско-Покровская линия  2021  I квартал   \n",
       "4             Крылатское  Арбатско-Покровская линия  2021  I квартал   \n",
       "\n",
       "  IncomingPassengers OutgoingPassengers   global_id  NameOfStation_en  \\\n",
       "0   Входы пассажиров  Выходы пассажиров   global_id  NameOfStation_en   \n",
       "1            1913498            1829031  1138975996               NaN   \n",
       "2            1236714            1222309  1138975997               NaN   \n",
       "3            1938816            1903731  1138975999               NaN   \n",
       "4            1849616            1818208  1138976000               NaN   \n",
       "\n",
       "   Line_en  Year_en  Quarter_en  IncomingPassengers_en  OutgoingPassengers_en  \n",
       "0  Line_en  Year_en  Quarter_en  IncomingPassengers_en  OutgoingPassengers_en  \n",
       "1      NaN      NaN         NaN                    NaN                    NaN  \n",
       "2      NaN      NaN         NaN                    NaN                    NaN  \n",
       "3      NaN      NaN         NaN                    NaN                    NaN  \n",
       "4      NaN      NaN         NaN                    NaN                    NaN  "
      ]
     },
     "execution_count": 21,
     "metadata": {},
     "output_type": "execute_result"
    }
   ],
   "source": [
    "pas.head()"
   ]
  },
  {
   "cell_type": "code",
   "execution_count": 22,
   "metadata": {
    "id": "xrfiXgl_UddP"
   },
   "outputs": [],
   "source": [
    "pas = pas.iloc[1:]"
   ]
  },
  {
   "cell_type": "code",
   "execution_count": 23,
   "metadata": {
    "id": "wc05dm7YVTed"
   },
   "outputs": [],
   "source": [
    "pas = pas[['NameOfStation', 'Line', 'Year', 'Quarter', 'IncomingPassengers',\n",
    "       'OutgoingPassengers']]"
   ]
  },
  {
   "cell_type": "code",
   "execution_count": 24,
   "metadata": {
    "colab": {
     "base_uri": "https://localhost:8080/",
     "height": 237
    },
    "id": "W3zrOlIxV9A0",
    "outputId": "fb3a2101-5512-49ca-fdfa-0950f154cbe7"
   },
   "outputs": [
    {
     "data": {
      "text/html": [
       "<div>\n",
       "<style scoped>\n",
       "    .dataframe tbody tr th:only-of-type {\n",
       "        vertical-align: middle;\n",
       "    }\n",
       "\n",
       "    .dataframe tbody tr th {\n",
       "        vertical-align: top;\n",
       "    }\n",
       "\n",
       "    .dataframe thead th {\n",
       "        text-align: right;\n",
       "    }\n",
       "</style>\n",
       "<table border=\"1\" class=\"dataframe\">\n",
       "  <thead>\n",
       "    <tr style=\"text-align: right;\">\n",
       "      <th></th>\n",
       "      <th>NameOfStation</th>\n",
       "      <th>Line</th>\n",
       "      <th>Year</th>\n",
       "      <th>Quarter</th>\n",
       "      <th>IncomingPassengers</th>\n",
       "      <th>OutgoingPassengers</th>\n",
       "    </tr>\n",
       "  </thead>\n",
       "  <tbody>\n",
       "    <tr>\n",
       "      <th>1</th>\n",
       "      <td>Митино</td>\n",
       "      <td>Арбатско-Покровская линия</td>\n",
       "      <td>2021</td>\n",
       "      <td>I квартал</td>\n",
       "      <td>1913498</td>\n",
       "      <td>1829031</td>\n",
       "    </tr>\n",
       "    <tr>\n",
       "      <th>182</th>\n",
       "      <td>Митино</td>\n",
       "      <td>Арбатско-Покровская линия</td>\n",
       "      <td>2021</td>\n",
       "      <td>II квартал</td>\n",
       "      <td>2119285</td>\n",
       "      <td>1991048</td>\n",
       "    </tr>\n",
       "    <tr>\n",
       "      <th>535</th>\n",
       "      <td>Митино</td>\n",
       "      <td>Арбатско-Покровская линия</td>\n",
       "      <td>2021</td>\n",
       "      <td>III квартал</td>\n",
       "      <td>2077107</td>\n",
       "      <td>1922906</td>\n",
       "    </tr>\n",
       "    <tr>\n",
       "      <th>804</th>\n",
       "      <td>Митино</td>\n",
       "      <td>Арбатско-Покровская линия</td>\n",
       "      <td>2021</td>\n",
       "      <td>IV квартал</td>\n",
       "      <td>2217044</td>\n",
       "      <td>2090460</td>\n",
       "    </tr>\n",
       "    <tr>\n",
       "      <th>1088</th>\n",
       "      <td>Митино</td>\n",
       "      <td>Арбатско-Покровская линия</td>\n",
       "      <td>2022</td>\n",
       "      <td>I квартал</td>\n",
       "      <td>2005840</td>\n",
       "      <td>1920776</td>\n",
       "    </tr>\n",
       "    <tr>\n",
       "      <th>1374</th>\n",
       "      <td>Митино</td>\n",
       "      <td>Арбатско-Покровская линия</td>\n",
       "      <td>2022</td>\n",
       "      <td>II квартал</td>\n",
       "      <td>2135762</td>\n",
       "      <td>2043853</td>\n",
       "    </tr>\n",
       "  </tbody>\n",
       "</table>\n",
       "</div>"
      ],
      "text/plain": [
       "     NameOfStation                       Line  Year      Quarter  \\\n",
       "1           Митино  Арбатско-Покровская линия  2021    I квартал   \n",
       "182         Митино  Арбатско-Покровская линия  2021   II квартал   \n",
       "535         Митино  Арбатско-Покровская линия  2021  III квартал   \n",
       "804         Митино  Арбатско-Покровская линия  2021   IV квартал   \n",
       "1088        Митино  Арбатско-Покровская линия  2022    I квартал   \n",
       "1374        Митино  Арбатско-Покровская линия  2022   II квартал   \n",
       "\n",
       "     IncomingPassengers OutgoingPassengers  \n",
       "1               1913498            1829031  \n",
       "182             2119285            1991048  \n",
       "535             2077107            1922906  \n",
       "804             2217044            2090460  \n",
       "1088            2005840            1920776  \n",
       "1374            2135762            2043853  "
      ]
     },
     "execution_count": 24,
     "metadata": {},
     "output_type": "execute_result"
    }
   ],
   "source": [
    "pas[pas['NameOfStation'] == 'Митино']"
   ]
  },
  {
   "cell_type": "code",
   "execution_count": 25,
   "metadata": {
    "id": "ipbwvgkLWuPq"
   },
   "outputs": [],
   "source": [
    "pas = pas[pas['Year'] == '2021']"
   ]
  },
  {
   "cell_type": "code",
   "execution_count": 26,
   "metadata": {
    "colab": {
     "base_uri": "https://localhost:8080/",
     "height": 206
    },
    "id": "1A7HgmXFW-Cs",
    "outputId": "45f10262-4ada-4e67-cb0e-6c04ac56af2e"
   },
   "outputs": [
    {
     "data": {
      "text/html": [
       "<div>\n",
       "<style scoped>\n",
       "    .dataframe tbody tr th:only-of-type {\n",
       "        vertical-align: middle;\n",
       "    }\n",
       "\n",
       "    .dataframe tbody tr th {\n",
       "        vertical-align: top;\n",
       "    }\n",
       "\n",
       "    .dataframe thead th {\n",
       "        text-align: right;\n",
       "    }\n",
       "</style>\n",
       "<table border=\"1\" class=\"dataframe\">\n",
       "  <thead>\n",
       "    <tr style=\"text-align: right;\">\n",
       "      <th></th>\n",
       "      <th>NameOfStation</th>\n",
       "      <th>Line</th>\n",
       "      <th>Year</th>\n",
       "      <th>Quarter</th>\n",
       "      <th>IncomingPassengers</th>\n",
       "      <th>OutgoingPassengers</th>\n",
       "    </tr>\n",
       "  </thead>\n",
       "  <tbody>\n",
       "    <tr>\n",
       "      <th>1</th>\n",
       "      <td>Митино</td>\n",
       "      <td>Арбатско-Покровская линия</td>\n",
       "      <td>2021</td>\n",
       "      <td>I квартал</td>\n",
       "      <td>1913498</td>\n",
       "      <td>1829031</td>\n",
       "    </tr>\n",
       "    <tr>\n",
       "      <th>2</th>\n",
       "      <td>Волоколамская</td>\n",
       "      <td>Арбатско-Покровская линия</td>\n",
       "      <td>2021</td>\n",
       "      <td>I квартал</td>\n",
       "      <td>1236714</td>\n",
       "      <td>1222309</td>\n",
       "    </tr>\n",
       "    <tr>\n",
       "      <th>3</th>\n",
       "      <td>Строгино</td>\n",
       "      <td>Арбатско-Покровская линия</td>\n",
       "      <td>2021</td>\n",
       "      <td>I квартал</td>\n",
       "      <td>1938816</td>\n",
       "      <td>1903731</td>\n",
       "    </tr>\n",
       "    <tr>\n",
       "      <th>4</th>\n",
       "      <td>Крылатское</td>\n",
       "      <td>Арбатско-Покровская линия</td>\n",
       "      <td>2021</td>\n",
       "      <td>I квартал</td>\n",
       "      <td>1849616</td>\n",
       "      <td>1818208</td>\n",
       "    </tr>\n",
       "    <tr>\n",
       "      <th>5</th>\n",
       "      <td>Площадь Революции</td>\n",
       "      <td>Арбатско-Покровская линия</td>\n",
       "      <td>2021</td>\n",
       "      <td>I квартал</td>\n",
       "      <td>2324687</td>\n",
       "      <td>2319343</td>\n",
       "    </tr>\n",
       "  </tbody>\n",
       "</table>\n",
       "</div>"
      ],
      "text/plain": [
       "       NameOfStation                       Line  Year    Quarter  \\\n",
       "1             Митино  Арбатско-Покровская линия  2021  I квартал   \n",
       "2      Волоколамская  Арбатско-Покровская линия  2021  I квартал   \n",
       "3           Строгино  Арбатско-Покровская линия  2021  I квартал   \n",
       "4         Крылатское  Арбатско-Покровская линия  2021  I квартал   \n",
       "5  Площадь Революции  Арбатско-Покровская линия  2021  I квартал   \n",
       "\n",
       "  IncomingPassengers OutgoingPassengers  \n",
       "1            1913498            1829031  \n",
       "2            1236714            1222309  \n",
       "3            1938816            1903731  \n",
       "4            1849616            1818208  \n",
       "5            2324687            2319343  "
      ]
     },
     "execution_count": 26,
     "metadata": {},
     "output_type": "execute_result"
    }
   ],
   "source": [
    "pas.head()"
   ]
  },
  {
   "cell_type": "code",
   "execution_count": 27,
   "metadata": {
    "id": "tEPk_ZaXbAic"
   },
   "outputs": [],
   "source": [
    "pas['IncomingPassengers'] = pas['IncomingPassengers'].astype(int)"
   ]
  },
  {
   "cell_type": "code",
   "execution_count": 28,
   "metadata": {
    "id": "Oi17hmDOacaL"
   },
   "outputs": [],
   "source": [
    "pas = pas[['NameOfStation', 'Line', 'IncomingPassengers']].groupby(['Line', 'NameOfStation'], as_index = False).agg('mean')"
   ]
  },
  {
   "cell_type": "code",
   "execution_count": 29,
   "metadata": {
    "colab": {
     "base_uri": "https://localhost:8080/",
     "height": 206
    },
    "id": "vm_umd0Tbd8E",
    "outputId": "232a457e-f5e8-43dc-f41b-094b3ea4fd8b"
   },
   "outputs": [
    {
     "data": {
      "text/html": [
       "<div>\n",
       "<style scoped>\n",
       "    .dataframe tbody tr th:only-of-type {\n",
       "        vertical-align: middle;\n",
       "    }\n",
       "\n",
       "    .dataframe tbody tr th {\n",
       "        vertical-align: top;\n",
       "    }\n",
       "\n",
       "    .dataframe thead th {\n",
       "        text-align: right;\n",
       "    }\n",
       "</style>\n",
       "<table border=\"1\" class=\"dataframe\">\n",
       "  <thead>\n",
       "    <tr style=\"text-align: right;\">\n",
       "      <th></th>\n",
       "      <th>Line</th>\n",
       "      <th>NameOfStation</th>\n",
       "      <th>IncomingPassengers</th>\n",
       "    </tr>\n",
       "  </thead>\n",
       "  <tbody>\n",
       "    <tr>\n",
       "      <th>0</th>\n",
       "      <td>Арбатско-Покровская линия</td>\n",
       "      <td>Арбатская</td>\n",
       "      <td>2312786.25</td>\n",
       "    </tr>\n",
       "    <tr>\n",
       "      <th>1</th>\n",
       "      <td>Арбатско-Покровская линия</td>\n",
       "      <td>Бауманская</td>\n",
       "      <td>4090732.75</td>\n",
       "    </tr>\n",
       "    <tr>\n",
       "      <th>2</th>\n",
       "      <td>Арбатско-Покровская линия</td>\n",
       "      <td>Волоколамская</td>\n",
       "      <td>1366349.50</td>\n",
       "    </tr>\n",
       "    <tr>\n",
       "      <th>3</th>\n",
       "      <td>Арбатско-Покровская линия</td>\n",
       "      <td>Измайловская</td>\n",
       "      <td>1497898.50</td>\n",
       "    </tr>\n",
       "    <tr>\n",
       "      <th>4</th>\n",
       "      <td>Арбатско-Покровская линия</td>\n",
       "      <td>Киевская</td>\n",
       "      <td>3780079.50</td>\n",
       "    </tr>\n",
       "  </tbody>\n",
       "</table>\n",
       "</div>"
      ],
      "text/plain": [
       "                        Line  NameOfStation  IncomingPassengers\n",
       "0  Арбатско-Покровская линия      Арбатская          2312786.25\n",
       "1  Арбатско-Покровская линия     Бауманская          4090732.75\n",
       "2  Арбатско-Покровская линия  Волоколамская          1366349.50\n",
       "3  Арбатско-Покровская линия   Измайловская          1497898.50\n",
       "4  Арбатско-Покровская линия       Киевская          3780079.50"
      ]
     },
     "execution_count": 29,
     "metadata": {},
     "output_type": "execute_result"
    }
   ],
   "source": [
    "pas.head()"
   ]
  },
  {
   "cell_type": "code",
   "execution_count": 30,
   "metadata": {
    "id": "G__CwK_sbk40"
   },
   "outputs": [],
   "source": [
    "train_lines = [i for i in trains['Линия']]"
   ]
  },
  {
   "cell_type": "code",
   "execution_count": 31,
   "metadata": {
    "colab": {
     "base_uri": "https://localhost:8080/"
    },
    "id": "sL9BBaAycSO4",
    "outputId": "890f80da-3853-4aa0-8b56-502e8189f2f7"
   },
   "outputs": [
    {
     "data": {
      "text/plain": [
       "['Сокольническая линия',\n",
       " 'Замоскворецкая линия',\n",
       " 'Арбатско-Покровская линия',\n",
       " 'Кольцевая линия',\n",
       " 'Калужско-Рижская линия',\n",
       " 'Таганско-Краснопресненская линия',\n",
       " 'Большая кольцевая линия',\n",
       " 'Серпуховско-Тимирязевская линия',\n",
       " 'Бутовская линия Лёгкого метро',\n",
       " 'Филёвская линия',\n",
       " 'Калининская линия',\n",
       " 'Люблинско-Дмитровская линия',\n",
       " 'Солнцевская линия',\n",
       " 'Некрасовская линия']"
      ]
     },
     "execution_count": 31,
     "metadata": {},
     "output_type": "execute_result"
    }
   ],
   "source": [
    "train_lines"
   ]
  },
  {
   "cell_type": "code",
   "execution_count": 32,
   "metadata": {
    "id": "mhfV_ZtkcFxn"
   },
   "outputs": [],
   "source": [
    "pas = pas[pas['Line'].apply(lambda x: x in train_lines)].reset_index().drop('index', axis = 1)"
   ]
  },
  {
   "cell_type": "code",
   "execution_count": 33,
   "metadata": {},
   "outputs": [
    {
     "data": {
      "text/html": [
       "<div>\n",
       "<style scoped>\n",
       "    .dataframe tbody tr th:only-of-type {\n",
       "        vertical-align: middle;\n",
       "    }\n",
       "\n",
       "    .dataframe tbody tr th {\n",
       "        vertical-align: top;\n",
       "    }\n",
       "\n",
       "    .dataframe thead th {\n",
       "        text-align: right;\n",
       "    }\n",
       "</style>\n",
       "<table border=\"1\" class=\"dataframe\">\n",
       "  <thead>\n",
       "    <tr style=\"text-align: right;\">\n",
       "      <th></th>\n",
       "      <th>Line</th>\n",
       "      <th>NameOfStation</th>\n",
       "      <th>IncomingPassengers</th>\n",
       "    </tr>\n",
       "  </thead>\n",
       "  <tbody>\n",
       "    <tr>\n",
       "      <th>0</th>\n",
       "      <td>Арбатско-Покровская линия</td>\n",
       "      <td>Арбатская</td>\n",
       "      <td>2312786.25</td>\n",
       "    </tr>\n",
       "    <tr>\n",
       "      <th>1</th>\n",
       "      <td>Арбатско-Покровская линия</td>\n",
       "      <td>Бауманская</td>\n",
       "      <td>4090732.75</td>\n",
       "    </tr>\n",
       "    <tr>\n",
       "      <th>2</th>\n",
       "      <td>Арбатско-Покровская линия</td>\n",
       "      <td>Волоколамская</td>\n",
       "      <td>1366349.50</td>\n",
       "    </tr>\n",
       "    <tr>\n",
       "      <th>3</th>\n",
       "      <td>Арбатско-Покровская линия</td>\n",
       "      <td>Измайловская</td>\n",
       "      <td>1497898.50</td>\n",
       "    </tr>\n",
       "    <tr>\n",
       "      <th>4</th>\n",
       "      <td>Арбатско-Покровская линия</td>\n",
       "      <td>Киевская</td>\n",
       "      <td>3780079.50</td>\n",
       "    </tr>\n",
       "  </tbody>\n",
       "</table>\n",
       "</div>"
      ],
      "text/plain": [
       "                        Line  NameOfStation  IncomingPassengers\n",
       "0  Арбатско-Покровская линия      Арбатская          2312786.25\n",
       "1  Арбатско-Покровская линия     Бауманская          4090732.75\n",
       "2  Арбатско-Покровская линия  Волоколамская          1366349.50\n",
       "3  Арбатско-Покровская линия   Измайловская          1497898.50\n",
       "4  Арбатско-Покровская линия       Киевская          3780079.50"
      ]
     },
     "execution_count": 33,
     "metadata": {},
     "output_type": "execute_result"
    }
   ],
   "source": [
    "pas.head()"
   ]
  },
  {
   "cell_type": "code",
   "execution_count": 34,
   "metadata": {
    "colab": {
     "base_uri": "https://localhost:8080/"
    },
    "id": "S8BgMgjwdaJ2",
    "outputId": "5e50cfa0-7dce-4da5-fcaf-b3c21cbafb3c"
   },
   "outputs": [
    {
     "data": {
      "text/plain": [
       "Line                  Кольцевая линия\n",
       "NameOfStation           Комсомольская\n",
       "IncomingPassengers          7310336.0\n",
       "Name: 107, dtype: object"
      ]
     },
     "execution_count": 34,
     "metadata": {},
     "output_type": "execute_result"
    }
   ],
   "source": [
    "pas.iloc[107]"
   ]
  },
  {
   "cell_type": "markdown",
   "metadata": {},
   "source": [
    "Using data from [here](https://www.mk.ru/moscow/2020/03/11/nazvany-samye-zagruzhennye-stancii-moskovskogo-metro.html), get coeffitient:"
   ]
  },
  {
   "cell_type": "code",
   "execution_count": 35,
   "metadata": {},
   "outputs": [],
   "source": [
    "coef = 27000 / pas.iloc[107]['IncomingPassengers']"
   ]
  },
  {
   "cell_type": "code",
   "execution_count": 36,
   "metadata": {
    "scrolled": true
   },
   "outputs": [
    {
     "data": {
      "text/plain": [
       "0       8542.046323\n",
       "1      15108.715147\n",
       "2       5046.476181\n",
       "3       5532.339348\n",
       "4      13961.348220\n",
       "           ...     \n",
       "244     1647.445993\n",
       "245     4566.369179\n",
       "246     1799.053628\n",
       "247     5255.734107\n",
       "248     2621.427148\n",
       "Name: IncomingPassengers, Length: 249, dtype: float64"
      ]
     },
     "execution_count": 36,
     "metadata": {},
     "output_type": "execute_result"
    }
   ],
   "source": [
    "pas['IncomingPassengers'] * coef"
   ]
  },
  {
   "cell_type": "code",
   "execution_count": 37,
   "metadata": {},
   "outputs": [],
   "source": [
    "pas['IncomingPassengers'] = pas['IncomingPassengers'] * coef"
   ]
  },
  {
   "cell_type": "code",
   "execution_count": 38,
   "metadata": {},
   "outputs": [],
   "source": [
    "pas.rename(columns = {'IncomingPassengers' : 'avg_pas_per_hour'}, inplace = True)"
   ]
  },
  {
   "cell_type": "code",
   "execution_count": 39,
   "metadata": {
    "scrolled": false
   },
   "outputs": [
    {
     "data": {
      "text/html": [
       "<div>\n",
       "<style scoped>\n",
       "    .dataframe tbody tr th:only-of-type {\n",
       "        vertical-align: middle;\n",
       "    }\n",
       "\n",
       "    .dataframe tbody tr th {\n",
       "        vertical-align: top;\n",
       "    }\n",
       "\n",
       "    .dataframe thead th {\n",
       "        text-align: right;\n",
       "    }\n",
       "</style>\n",
       "<table border=\"1\" class=\"dataframe\">\n",
       "  <thead>\n",
       "    <tr style=\"text-align: right;\">\n",
       "      <th></th>\n",
       "      <th>Line</th>\n",
       "      <th>NameOfStation</th>\n",
       "      <th>avg_pas_per_hour</th>\n",
       "    </tr>\n",
       "  </thead>\n",
       "  <tbody>\n",
       "    <tr>\n",
       "      <th>0</th>\n",
       "      <td>Арбатско-Покровская линия</td>\n",
       "      <td>Арбатская</td>\n",
       "      <td>8542.046323</td>\n",
       "    </tr>\n",
       "    <tr>\n",
       "      <th>1</th>\n",
       "      <td>Арбатско-Покровская линия</td>\n",
       "      <td>Бауманская</td>\n",
       "      <td>15108.715147</td>\n",
       "    </tr>\n",
       "    <tr>\n",
       "      <th>2</th>\n",
       "      <td>Арбатско-Покровская линия</td>\n",
       "      <td>Волоколамская</td>\n",
       "      <td>5046.476181</td>\n",
       "    </tr>\n",
       "    <tr>\n",
       "      <th>3</th>\n",
       "      <td>Арбатско-Покровская линия</td>\n",
       "      <td>Измайловская</td>\n",
       "      <td>5532.339348</td>\n",
       "    </tr>\n",
       "    <tr>\n",
       "      <th>4</th>\n",
       "      <td>Арбатско-Покровская линия</td>\n",
       "      <td>Киевская</td>\n",
       "      <td>13961.348220</td>\n",
       "    </tr>\n",
       "    <tr>\n",
       "      <th>5</th>\n",
       "      <td>Арбатско-Покровская линия</td>\n",
       "      <td>Крылатское</td>\n",
       "      <td>7508.210840</td>\n",
       "    </tr>\n",
       "    <tr>\n",
       "      <th>6</th>\n",
       "      <td>Арбатско-Покровская линия</td>\n",
       "      <td>Кунцевская</td>\n",
       "      <td>4624.440518</td>\n",
       "    </tr>\n",
       "    <tr>\n",
       "      <th>7</th>\n",
       "      <td>Арбатско-Покровская линия</td>\n",
       "      <td>Курская</td>\n",
       "      <td>5050.092020</td>\n",
       "    </tr>\n",
       "    <tr>\n",
       "      <th>8</th>\n",
       "      <td>Арбатско-Покровская линия</td>\n",
       "      <td>Митино</td>\n",
       "      <td>7688.675938</td>\n",
       "    </tr>\n",
       "    <tr>\n",
       "      <th>9</th>\n",
       "      <td>Арбатско-Покровская линия</td>\n",
       "      <td>Молодёжная</td>\n",
       "      <td>13538.463998</td>\n",
       "    </tr>\n",
       "    <tr>\n",
       "      <th>10</th>\n",
       "      <td>Арбатско-Покровская линия</td>\n",
       "      <td>Мякинино</td>\n",
       "      <td>5537.845285</td>\n",
       "    </tr>\n",
       "    <tr>\n",
       "      <th>11</th>\n",
       "      <td>Арбатско-Покровская линия</td>\n",
       "      <td>Парк Победы</td>\n",
       "      <td>4786.039725</td>\n",
       "    </tr>\n",
       "    <tr>\n",
       "      <th>12</th>\n",
       "      <td>Арбатско-Покровская линия</td>\n",
       "      <td>Партизанская</td>\n",
       "      <td>5287.953488</td>\n",
       "    </tr>\n",
       "    <tr>\n",
       "      <th>13</th>\n",
       "      <td>Арбатско-Покровская линия</td>\n",
       "      <td>Первомайская</td>\n",
       "      <td>10165.716049</td>\n",
       "    </tr>\n",
       "    <tr>\n",
       "      <th>14</th>\n",
       "      <td>Арбатско-Покровская линия</td>\n",
       "      <td>Площадь Революции</td>\n",
       "      <td>10006.370740</td>\n",
       "    </tr>\n",
       "    <tr>\n",
       "      <th>15</th>\n",
       "      <td>Арбатско-Покровская линия</td>\n",
       "      <td>Пятницкое шоссе</td>\n",
       "      <td>5364.872251</td>\n",
       "    </tr>\n",
       "    <tr>\n",
       "      <th>16</th>\n",
       "      <td>Арбатско-Покровская линия</td>\n",
       "      <td>Семёновская</td>\n",
       "      <td>8894.681141</td>\n",
       "    </tr>\n",
       "    <tr>\n",
       "      <th>17</th>\n",
       "      <td>Арбатско-Покровская линия</td>\n",
       "      <td>Славянский бульвар</td>\n",
       "      <td>17586.956537</td>\n",
       "    </tr>\n",
       "    <tr>\n",
       "      <th>18</th>\n",
       "      <td>Арбатско-Покровская линия</td>\n",
       "      <td>Смоленская</td>\n",
       "      <td>2423.088761</td>\n",
       "    </tr>\n",
       "    <tr>\n",
       "      <th>19</th>\n",
       "      <td>Арбатско-Покровская линия</td>\n",
       "      <td>Строгино</td>\n",
       "      <td>8123.961676</td>\n",
       "    </tr>\n",
       "  </tbody>\n",
       "</table>\n",
       "</div>"
      ],
      "text/plain": [
       "                         Line       NameOfStation  avg_pas_per_hour\n",
       "0   Арбатско-Покровская линия           Арбатская       8542.046323\n",
       "1   Арбатско-Покровская линия          Бауманская      15108.715147\n",
       "2   Арбатско-Покровская линия       Волоколамская       5046.476181\n",
       "3   Арбатско-Покровская линия        Измайловская       5532.339348\n",
       "4   Арбатско-Покровская линия            Киевская      13961.348220\n",
       "5   Арбатско-Покровская линия          Крылатское       7508.210840\n",
       "6   Арбатско-Покровская линия          Кунцевская       4624.440518\n",
       "7   Арбатско-Покровская линия             Курская       5050.092020\n",
       "8   Арбатско-Покровская линия              Митино       7688.675938\n",
       "9   Арбатско-Покровская линия          Молодёжная      13538.463998\n",
       "10  Арбатско-Покровская линия            Мякинино       5537.845285\n",
       "11  Арбатско-Покровская линия         Парк Победы       4786.039725\n",
       "12  Арбатско-Покровская линия        Партизанская       5287.953488\n",
       "13  Арбатско-Покровская линия        Первомайская      10165.716049\n",
       "14  Арбатско-Покровская линия   Площадь Революции      10006.370740\n",
       "15  Арбатско-Покровская линия     Пятницкое шоссе       5364.872251\n",
       "16  Арбатско-Покровская линия         Семёновская       8894.681141\n",
       "17  Арбатско-Покровская линия  Славянский бульвар      17586.956537\n",
       "18  Арбатско-Покровская линия          Смоленская       2423.088761\n",
       "19  Арбатско-Покровская линия            Строгино       8123.961676"
      ]
     },
     "execution_count": 39,
     "metadata": {},
     "output_type": "execute_result"
    }
   ],
   "source": [
    "pas.head(20)"
   ]
  },
  {
   "cell_type": "markdown",
   "metadata": {},
   "source": [
    "Poisson Process Parametrs Estimation"
   ]
  },
  {
   "cell_type": "markdown",
   "metadata": {},
   "source": [
    "$E(N_t) = \\lambda t \\Rightarrow \\lambda = E(N_1) =$ avg_pas_per_hour"
   ]
  },
  {
   "cell_type": "code",
   "execution_count": 40,
   "metadata": {},
   "outputs": [],
   "source": [
    "import cvxpy as cp\n",
    "from tqdm import tqdm\n",
    "import cvxopt"
   ]
  },
  {
   "cell_type": "code",
   "execution_count": 41,
   "metadata": {},
   "outputs": [],
   "source": [
    "#simulate a poisson arrival process for the station\n",
    "def queue_simulation_poiss(line, station):\n",
    "    l = float(pas[(np.array(pas['Line'] == line) * np.array(pas['NameOfStation'] == station))]['avg_pas_per_hour'])\n",
    "    if l == 0:\n",
    "        l = 100\n",
    "    incoming_times = []\n",
    "    time = 0\n",
    "    while time < 1:\n",
    "        time = time + ss.expon(scale = 1 / l).rvs()\n",
    "        incoming_times.append(time)\n",
    "    return np.array(incoming_times[:-1]) * 60"
   ]
  },
  {
   "cell_type": "code",
   "execution_count": 42,
   "metadata": {},
   "outputs": [],
   "source": [
    "#simulate a uniform arrival process for station\n",
    "def queue_simulation_unif(line, station):\n",
    "    l = max(100, int(pas[(np.array(pas['Line'] == line) * np.array(pas['NameOfStation'] == station))]['avg_pas_per_hour']))\n",
    "    incoming_times = np.linspace(0, 1, l) * 60\n",
    "    return incoming_times[1:-1]"
   ]
  },
  {
   "cell_type": "code",
   "execution_count": 43,
   "metadata": {},
   "outputs": [],
   "source": [
    "#create the list of stations on line\n",
    "def stations_of_line(line):\n",
    "    return list(pas[pas['Line'] == line]['NameOfStation'])\n",
    "    "
   ]
  },
  {
   "cell_type": "code",
   "execution_count": 44,
   "metadata": {},
   "outputs": [],
   "source": [
    "#get the time of the full cycle on line from table\n",
    "def full_cycle_time(line):\n",
    "    return 2 * int(trains[trains['Линия'] == line]['Время проезда по линии'])"
   ]
  },
  {
   "cell_type": "code",
   "execution_count": 45,
   "metadata": {},
   "outputs": [],
   "source": [
    "lines = list(pas['Line'].unique())"
   ]
  },
  {
   "cell_type": "code",
   "execution_count": 46,
   "metadata": {},
   "outputs": [],
   "source": [
    "all_trains = sum(trains['Количество поездов'])"
   ]
  },
  {
   "cell_type": "code",
   "execution_count": 47,
   "metadata": {},
   "outputs": [
    {
     "data": {
      "text/plain": [
       "811"
      ]
     },
     "execution_count": 47,
     "metadata": {},
     "output_type": "execute_result"
    }
   ],
   "source": [
    "all_trains"
   ]
  },
  {
   "cell_type": "code",
   "execution_count": 48,
   "metadata": {},
   "outputs": [
    {
     "data": {
      "text/plain": [
       "['Арбатско-Покровская линия',\n",
       " 'Большая кольцевая линия',\n",
       " 'Бутовская линия Лёгкого метро',\n",
       " 'Замоскворецкая линия',\n",
       " 'Калининская линия',\n",
       " 'Калужско-Рижская линия',\n",
       " 'Кольцевая линия',\n",
       " 'Люблинско-Дмитровская линия',\n",
       " 'Некрасовская линия',\n",
       " 'Серпуховско-Тимирязевская линия',\n",
       " 'Сокольническая линия',\n",
       " 'Солнцевская линия',\n",
       " 'Таганско-Краснопресненская линия',\n",
       " 'Филёвская линия']"
      ]
     },
     "execution_count": 48,
     "metadata": {},
     "output_type": "execute_result"
    }
   ],
   "source": [
    "lines"
   ]
  },
  {
   "cell_type": "code",
   "execution_count": 49,
   "metadata": {},
   "outputs": [],
   "source": [
    "cur_trains = [int(trains[trains['Линия'] == i]['Количество поездов']) for i in lines]"
   ]
  },
  {
   "cell_type": "code",
   "execution_count": 50,
   "metadata": {},
   "outputs": [],
   "source": [
    "#find the distribution with difference in one train\n",
    "def neighboring_distr(distr):\n",
    "    ans = []\n",
    "    ans.append(distr)\n",
    "    for i in range(len(distr)):\n",
    "        for j in range(len(distr)):\n",
    "            if i != j:\n",
    "                c = distr.copy()\n",
    "                c[i], c[j] = c[i] - 1, c[j] + 1\n",
    "                if c[i] >= 0:\n",
    "                    ans.append(c)\n",
    "    return ans\n"
   ]
  },
  {
   "cell_type": "code",
   "execution_count": 51,
   "metadata": {},
   "outputs": [],
   "source": [
    "d = neighboring_distr(cur_trains)"
   ]
  },
  {
   "cell_type": "code",
   "execution_count": 52,
   "metadata": {
    "scrolled": false
   },
   "outputs": [],
   "source": [
    "#cvxpy estimation for avg waiting time\n",
    "def cp_avg_wt(distr):\n",
    "    c = {}\n",
    "    cons = []\n",
    "    num_pas = 0\n",
    "    i = -1\n",
    "    waiting_time = cp.sum([0])\n",
    "    for line in lines:   \n",
    "        i += 1\n",
    "        interval = full_cycle_time(line) / distr[i]\n",
    "        for station in stations_of_line(line):\n",
    "            passengers = queue_simulation_unif(line, station)\n",
    "            c[(line, station)] = cp.Variable(len(passengers), integer = True)\n",
    "            cons.append(c[(line, station)] * interval - passengers >= 0)\n",
    "            waiting_time += cp.sum(c[(line, station)] * interval - passengers)\n",
    "            num_pas += len(passengers)\n",
    "\n",
    "\n",
    "\n",
    "    obj = cp.Minimize(cp.sum(waiting_time) / num_pas)\n",
    "    prob = cp.Problem(obj, cons)\n",
    "    prob.solve()\n",
    "    return prob.value"
   ]
  },
  {
   "cell_type": "code",
   "execution_count": 53,
   "metadata": {},
   "outputs": [],
   "source": [
    "#numpy-only estimation for avg waiting time\n",
    "def avg_wt(distr):\n",
    "    cons = []\n",
    "    num_pas = 0\n",
    "    i = -1\n",
    "    waiting_time = 0\n",
    "    for line in lines:   \n",
    "        i += 1\n",
    "        interval = full_cycle_time(line) / distr[i]\n",
    "        for station in stations_of_line(line):\n",
    "            passengers = queue_simulation_unif(line, station)\n",
    "            waiting_time += np.sum((1 + passengers // interval) * interval - passengers)\n",
    "            num_pas += len(passengers)\n",
    "    return waiting_time / num_pas"
   ]
  },
  {
   "cell_type": "markdown",
   "metadata": {},
   "source": [
    "Numpy or cvxpy?"
   ]
  },
  {
   "cell_type": "code",
   "execution_count": 123,
   "metadata": {},
   "outputs": [
    {
     "name": "stdout",
     "output_type": "stream",
     "text": [
      "Wall time: 41.1 s\n"
     ]
    },
    {
     "data": {
      "text/plain": [
       "0.7862888957854544"
      ]
     },
     "execution_count": 123,
     "metadata": {},
     "output_type": "execute_result"
    }
   ],
   "source": [
    "%time cp_avg_wt(d[0])"
   ]
  },
  {
   "cell_type": "code",
   "execution_count": 124,
   "metadata": {
    "scrolled": true
   },
   "outputs": [
    {
     "name": "stdout",
     "output_type": "stream",
     "text": [
      "Wall time: 637 ms\n"
     ]
    },
    {
     "data": {
      "text/plain": [
       "0.7863928432547189"
      ]
     },
     "execution_count": 124,
     "metadata": {},
     "output_type": "execute_result"
    }
   ],
   "source": [
    "%time avg_wt(d[0])"
   ]
  },
  {
   "cell_type": "markdown",
   "metadata": {},
   "source": [
    "Obviously, numpy"
   ]
  },
  {
   "cell_type": "code",
   "execution_count": 54,
   "metadata": {},
   "outputs": [],
   "source": [
    "#model with poisson process\n",
    "def avg_wt_poiss(distr):\n",
    "    cons = []\n",
    "    num_pas = 0\n",
    "    i = -1\n",
    "    waiting_time = 0\n",
    "    for line in tqdm(lines):   \n",
    "        i += 1\n",
    "        interval = full_cycle_time(line) / distr[i]\n",
    "        for station in stations_of_line(line):\n",
    "            passengers = queue_simulation_poiss(line, station)\n",
    "            waiting_time += np.sum((1 + passengers // interval) * interval - passengers)\n",
    "            num_pas += len(passengers)\n",
    "    return waiting_time / num_pas"
   ]
  },
  {
   "cell_type": "markdown",
   "metadata": {},
   "source": [
    "Poisson process or uniform distribution for the arrival process?"
   ]
  },
  {
   "cell_type": "code",
   "execution_count": 160,
   "metadata": {
    "scrolled": true
   },
   "outputs": [
    {
     "name": "stderr",
     "output_type": "stream",
     "text": [
      "100%|█████████████████████████████████████████████████████████████████████████████████| 14/14 [46:58<00:00, 201.32s/it]"
     ]
    },
    {
     "name": "stdout",
     "output_type": "stream",
     "text": [
      "Wall time: 46min 58s\n"
     ]
    },
    {
     "name": "stderr",
     "output_type": "stream",
     "text": [
      "\n"
     ]
    },
    {
     "data": {
      "text/plain": [
       "0.7862572813357225"
      ]
     },
     "execution_count": 160,
     "metadata": {},
     "output_type": "execute_result"
    }
   ],
   "source": [
    "%time avg_wt_poiss(d[0])"
   ]
  },
  {
   "cell_type": "markdown",
   "metadata": {},
   "source": [
    "Poisson process has almost the same effect but it's much longer."
   ]
  },
  {
   "cell_type": "code",
   "execution_count": 55,
   "metadata": {
    "scrolled": false
   },
   "outputs": [],
   "source": [
    "#find best distribution from list\n",
    "def bd(d):    \n",
    "    best_res = 1000\n",
    "    best_distr = d[0]\n",
    "    for distr in tqdm(d):\n",
    "        res = avg_wt(distr)\n",
    "        if res < best_res:\n",
    "            best_res = res\n",
    "            best_distr = distr\n",
    "    return (best_distr)"
   ]
  },
  {
   "cell_type": "code",
   "execution_count": 129,
   "metadata": {},
   "outputs": [
    {
     "name": "stderr",
     "output_type": "stream",
     "text": [
      "100%|████████████████████████████████████████████████████████████████████████████████| 183/183 [01:35<00:00,  1.92it/s]\n"
     ]
    },
    {
     "data": {
      "text/plain": [
       "[80, 46, 24, 81, 31, 96, 35, 83, 24, 90, 76, 33, 85, 27]"
      ]
     },
     "execution_count": 129,
     "metadata": {},
     "output_type": "execute_result"
    }
   ],
   "source": [
    "bd(d)"
   ]
  },
  {
   "cell_type": "code",
   "execution_count": 130,
   "metadata": {},
   "outputs": [
    {
     "data": {
      "text/plain": [
       "[80, 47, 24, 80, 31, 96, 35, 83, 24, 90, 76, 33, 85, 27]"
      ]
     },
     "execution_count": 130,
     "metadata": {},
     "output_type": "execute_result"
    }
   ],
   "source": [
    "d[0]"
   ]
  },
  {
   "cell_type": "code",
   "execution_count": 127,
   "metadata": {
    "scrolled": true
   },
   "outputs": [
    {
     "data": {
      "text/plain": [
       "['Арбатско-Покровская линия',\n",
       " 'Большая кольцевая линия',\n",
       " 'Бутовская линия Лёгкого метро',\n",
       " 'Замоскворецкая линия',\n",
       " 'Калининская линия',\n",
       " 'Калужско-Рижская линия',\n",
       " 'Кольцевая линия',\n",
       " 'Люблинско-Дмитровская линия',\n",
       " 'Некрасовская линия',\n",
       " 'Серпуховско-Тимирязевская линия',\n",
       " 'Сокольническая линия',\n",
       " 'Солнцевская линия',\n",
       " 'Таганско-Краснопресненская линия',\n",
       " 'Филёвская линия']"
      ]
     },
     "execution_count": 127,
     "metadata": {},
     "output_type": "execute_result"
    }
   ],
   "source": [
    "lines"
   ]
  },
  {
   "cell_type": "markdown",
   "metadata": {},
   "source": [
    "So it suggests to move from Большая кольцевая линия to Замоскворецкая линия first of all. Let's create an algorithm to find the optimal distribution by improving the current distribution step by step."
   ]
  },
  {
   "cell_type": "code",
   "execution_count": 135,
   "metadata": {
    "scrolled": false
   },
   "outputs": [
    {
     "name": "stderr",
     "output_type": "stream",
     "text": [
      "100%|████████████████████████████████████████████████████████████████████████████████| 183/183 [01:40<00:00,  1.82it/s]\n",
      "  0%|                                                                                          | 0/183 [00:00<?, ?it/s]"
     ]
    },
    {
     "name": "stdout",
     "output_type": "stream",
     "text": [
      "[80, 46, 24, 81, 31, 96, 35, 83, 24, 90, 76, 33, 85, 27]\n"
     ]
    },
    {
     "name": "stderr",
     "output_type": "stream",
     "text": [
      "100%|████████████████████████████████████████████████████████████████████████████████| 183/183 [01:35<00:00,  1.91it/s]\n",
      "  0%|                                                                                          | 0/183 [00:00<?, ?it/s]"
     ]
    },
    {
     "name": "stdout",
     "output_type": "stream",
     "text": [
      "[80, 46, 24, 81, 31, 95, 36, 83, 24, 90, 76, 33, 85, 27]\n"
     ]
    },
    {
     "name": "stderr",
     "output_type": "stream",
     "text": [
      "100%|████████████████████████████████████████████████████████████████████████████████| 183/183 [01:38<00:00,  1.86it/s]\n",
      "  0%|                                                                                          | 0/183 [00:00<?, ?it/s]"
     ]
    },
    {
     "name": "stdout",
     "output_type": "stream",
     "text": [
      "[80, 46, 23, 81, 31, 95, 37, 83, 24, 90, 76, 33, 85, 27]\n"
     ]
    },
    {
     "name": "stderr",
     "output_type": "stream",
     "text": [
      "100%|████████████████████████████████████████████████████████████████████████████████| 183/183 [01:37<00:00,  1.88it/s]\n",
      "  0%|                                                                                          | 0/183 [00:00<?, ?it/s]"
     ]
    },
    {
     "name": "stdout",
     "output_type": "stream",
     "text": [
      "[80, 46, 22, 81, 31, 95, 38, 83, 24, 90, 76, 33, 85, 27]\n"
     ]
    },
    {
     "name": "stderr",
     "output_type": "stream",
     "text": [
      "100%|████████████████████████████████████████████████████████████████████████████████| 183/183 [01:47<00:00,  1.70it/s]\n",
      "  0%|                                                                                          | 0/183 [00:00<?, ?it/s]"
     ]
    },
    {
     "name": "stdout",
     "output_type": "stream",
     "text": [
      "[80, 45, 22, 81, 31, 95, 39, 83, 24, 90, 76, 33, 85, 27]\n"
     ]
    },
    {
     "name": "stderr",
     "output_type": "stream",
     "text": [
      "100%|████████████████████████████████████████████████████████████████████████████████| 183/183 [01:42<00:00,  1.79it/s]\n",
      "  0%|                                                                                          | 0/183 [00:00<?, ?it/s]"
     ]
    },
    {
     "name": "stdout",
     "output_type": "stream",
     "text": [
      "[80, 44, 22, 81, 31, 95, 40, 83, 24, 90, 76, 33, 85, 27]\n"
     ]
    },
    {
     "name": "stderr",
     "output_type": "stream",
     "text": [
      "100%|████████████████████████████████████████████████████████████████████████████████| 183/183 [01:37<00:00,  1.88it/s]\n",
      "  0%|                                                                                          | 0/183 [00:00<?, ?it/s]"
     ]
    },
    {
     "name": "stdout",
     "output_type": "stream",
     "text": [
      "[80, 43, 22, 81, 31, 95, 41, 83, 24, 90, 76, 33, 85, 27]\n"
     ]
    },
    {
     "name": "stderr",
     "output_type": "stream",
     "text": [
      "100%|████████████████████████████████████████████████████████████████████████████████| 183/183 [01:35<00:00,  1.91it/s]\n",
      "  0%|                                                                                          | 0/183 [00:00<?, ?it/s]"
     ]
    },
    {
     "name": "stdout",
     "output_type": "stream",
     "text": [
      "[80, 43, 22, 81, 31, 95, 42, 82, 24, 90, 76, 33, 85, 27]\n"
     ]
    },
    {
     "name": "stderr",
     "output_type": "stream",
     "text": [
      "100%|████████████████████████████████████████████████████████████████████████████████| 183/183 [01:36<00:00,  1.89it/s]\n",
      "  0%|                                                                                          | 0/183 [00:00<?, ?it/s]"
     ]
    },
    {
     "name": "stdout",
     "output_type": "stream",
     "text": [
      "[80, 43, 21, 81, 31, 95, 43, 82, 24, 90, 76, 33, 85, 27]\n"
     ]
    },
    {
     "name": "stderr",
     "output_type": "stream",
     "text": [
      "100%|████████████████████████████████████████████████████████████████████████████████| 183/183 [01:39<00:00,  1.84it/s]\n",
      "  0%|                                                                                          | 0/183 [00:00<?, ?it/s]"
     ]
    },
    {
     "name": "stdout",
     "output_type": "stream",
     "text": [
      "[80, 42, 21, 81, 31, 95, 44, 82, 24, 90, 76, 33, 85, 27]\n"
     ]
    },
    {
     "name": "stderr",
     "output_type": "stream",
     "text": [
      "100%|████████████████████████████████████████████████████████████████████████████████| 183/183 [01:40<00:00,  1.82it/s]\n",
      "  0%|                                                                                          | 0/183 [00:00<?, ?it/s]"
     ]
    },
    {
     "name": "stdout",
     "output_type": "stream",
     "text": [
      "[80, 41, 21, 81, 31, 95, 44, 82, 25, 90, 76, 33, 85, 27]\n"
     ]
    },
    {
     "name": "stderr",
     "output_type": "stream",
     "text": [
      "100%|████████████████████████████████████████████████████████████████████████████████| 183/183 [01:43<00:00,  1.78it/s]\n",
      "  0%|                                                                                          | 0/183 [00:00<?, ?it/s]"
     ]
    },
    {
     "name": "stdout",
     "output_type": "stream",
     "text": [
      "[80, 40, 21, 81, 32, 95, 44, 82, 25, 90, 76, 33, 85, 27]\n"
     ]
    },
    {
     "name": "stderr",
     "output_type": "stream",
     "text": [
      "100%|████████████████████████████████████████████████████████████████████████████████| 183/183 [01:37<00:00,  1.88it/s]\n",
      "  0%|                                                                                          | 0/183 [00:00<?, ?it/s]"
     ]
    },
    {
     "name": "stdout",
     "output_type": "stream",
     "text": [
      "[80, 39, 21, 81, 33, 95, 44, 82, 25, 90, 76, 33, 85, 27]\n"
     ]
    },
    {
     "name": "stderr",
     "output_type": "stream",
     "text": [
      "100%|████████████████████████████████████████████████████████████████████████████████| 183/183 [01:39<00:00,  1.83it/s]\n",
      "  0%|                                                                                          | 0/183 [00:00<?, ?it/s]"
     ]
    },
    {
     "name": "stdout",
     "output_type": "stream",
     "text": [
      "[80, 39, 20, 81, 33, 95, 45, 82, 25, 90, 76, 33, 85, 27]\n"
     ]
    },
    {
     "name": "stderr",
     "output_type": "stream",
     "text": [
      "100%|████████████████████████████████████████████████████████████████████████████████| 183/183 [01:35<00:00,  1.91it/s]\n",
      "  0%|                                                                                          | 0/183 [00:00<?, ?it/s]"
     ]
    },
    {
     "name": "stdout",
     "output_type": "stream",
     "text": [
      "[80, 39, 20, 81, 33, 95, 46, 82, 25, 90, 76, 33, 85, 26]\n"
     ]
    },
    {
     "name": "stderr",
     "output_type": "stream",
     "text": [
      "100%|████████████████████████████████████████████████████████████████████████████████| 183/183 [01:36<00:00,  1.89it/s]\n",
      "  0%|                                                                                          | 0/183 [00:00<?, ?it/s]"
     ]
    },
    {
     "name": "stdout",
     "output_type": "stream",
     "text": [
      "[80, 38, 20, 81, 33, 95, 46, 82, 25, 90, 76, 33, 86, 26]\n"
     ]
    },
    {
     "name": "stderr",
     "output_type": "stream",
     "text": [
      "100%|████████████████████████████████████████████████████████████████████████████████| 183/183 [01:37<00:00,  1.87it/s]\n",
      "  0%|                                                                                          | 0/183 [00:00<?, ?it/s]"
     ]
    },
    {
     "name": "stdout",
     "output_type": "stream",
     "text": [
      "[80, 37, 20, 81, 33, 95, 46, 82, 25, 90, 76, 33, 87, 26]\n"
     ]
    },
    {
     "name": "stderr",
     "output_type": "stream",
     "text": [
      "100%|████████████████████████████████████████████████████████████████████████████████| 183/183 [01:37<00:00,  1.87it/s]\n",
      "  0%|                                                                                          | 0/183 [00:00<?, ?it/s]"
     ]
    },
    {
     "name": "stdout",
     "output_type": "stream",
     "text": [
      "[80, 36, 20, 81, 33, 95, 46, 82, 25, 90, 76, 33, 88, 26]\n"
     ]
    },
    {
     "name": "stderr",
     "output_type": "stream",
     "text": [
      "100%|████████████████████████████████████████████████████████████████████████████████| 183/183 [01:38<00:00,  1.85it/s]\n",
      "  0%|                                                                                          | 0/183 [00:00<?, ?it/s]"
     ]
    },
    {
     "name": "stdout",
     "output_type": "stream",
     "text": [
      "[80, 36, 20, 81, 33, 95, 46, 82, 25, 90, 76, 32, 89, 26]\n"
     ]
    },
    {
     "name": "stderr",
     "output_type": "stream",
     "text": [
      "100%|████████████████████████████████████████████████████████████████████████████████| 183/183 [01:35<00:00,  1.91it/s]\n",
      "  0%|                                                                                          | 0/183 [00:00<?, ?it/s]"
     ]
    },
    {
     "name": "stdout",
     "output_type": "stream",
     "text": [
      "[80, 36, 19, 81, 33, 95, 46, 82, 25, 90, 76, 32, 90, 26]\n"
     ]
    },
    {
     "name": "stderr",
     "output_type": "stream",
     "text": [
      "100%|████████████████████████████████████████████████████████████████████████████████| 183/183 [01:36<00:00,  1.90it/s]\n",
      "  0%|                                                                                          | 0/183 [00:00<?, ?it/s]"
     ]
    },
    {
     "name": "stdout",
     "output_type": "stream",
     "text": [
      "[80, 36, 19, 81, 33, 95, 46, 82, 26, 90, 76, 31, 90, 26]\n"
     ]
    },
    {
     "name": "stderr",
     "output_type": "stream",
     "text": [
      "100%|████████████████████████████████████████████████████████████████████████████████| 183/183 [01:37<00:00,  1.87it/s]\n",
      "  0%|                                                                                          | 0/183 [00:00<?, ?it/s]"
     ]
    },
    {
     "name": "stdout",
     "output_type": "stream",
     "text": [
      "[80, 36, 18, 81, 33, 95, 47, 82, 26, 90, 76, 31, 90, 26]\n"
     ]
    },
    {
     "name": "stderr",
     "output_type": "stream",
     "text": [
      "100%|████████████████████████████████████████████████████████████████████████████████| 183/183 [01:36<00:00,  1.90it/s]\n",
      "  0%|                                                                                          | 0/183 [00:00<?, ?it/s]"
     ]
    },
    {
     "name": "stdout",
     "output_type": "stream",
     "text": [
      "[80, 36, 18, 81, 33, 95, 47, 82, 27, 90, 76, 30, 90, 26]\n"
     ]
    },
    {
     "name": "stderr",
     "output_type": "stream",
     "text": [
      "100%|████████████████████████████████████████████████████████████████████████████████| 183/183 [01:36<00:00,  1.89it/s]\n",
      "  0%|                                                                                          | 0/183 [00:00<?, ?it/s]"
     ]
    },
    {
     "name": "stdout",
     "output_type": "stream",
     "text": [
      "[80, 36, 17, 81, 33, 95, 48, 82, 27, 90, 76, 30, 90, 26]\n"
     ]
    },
    {
     "name": "stderr",
     "output_type": "stream",
     "text": [
      "100%|████████████████████████████████████████████████████████████████████████████████| 183/183 [01:37<00:00,  1.88it/s]\n",
      "  0%|                                                                                          | 0/183 [00:00<?, ?it/s]"
     ]
    },
    {
     "name": "stdout",
     "output_type": "stream",
     "text": [
      "[80, 36, 17, 81, 33, 95, 49, 81, 27, 90, 76, 30, 90, 26]\n"
     ]
    },
    {
     "name": "stderr",
     "output_type": "stream",
     "text": [
      "100%|████████████████████████████████████████████████████████████████████████████████| 183/183 [01:41<00:00,  1.81it/s]\n",
      "  0%|                                                                                          | 0/183 [00:00<?, ?it/s]"
     ]
    },
    {
     "name": "stdout",
     "output_type": "stream",
     "text": [
      "[80, 36, 17, 81, 34, 95, 49, 80, 27, 90, 76, 30, 90, 26]\n"
     ]
    },
    {
     "name": "stderr",
     "output_type": "stream",
     "text": [
      "100%|████████████████████████████████████████████████████████████████████████████████| 183/183 [01:39<00:00,  1.84it/s]\n",
      "  0%|                                                                                          | 0/183 [00:00<?, ?it/s]"
     ]
    },
    {
     "name": "stdout",
     "output_type": "stream",
     "text": [
      "[80, 35, 17, 81, 35, 95, 49, 80, 27, 90, 76, 30, 90, 26]\n"
     ]
    },
    {
     "name": "stderr",
     "output_type": "stream",
     "text": [
      "100%|████████████████████████████████████████████████████████████████████████████████| 183/183 [01:38<00:00,  1.86it/s]\n",
      "  0%|                                                                                          | 0/183 [00:00<?, ?it/s]"
     ]
    },
    {
     "name": "stdout",
     "output_type": "stream",
     "text": [
      "[80, 34, 17, 81, 35, 95, 49, 80, 27, 91, 76, 30, 90, 26]\n"
     ]
    },
    {
     "name": "stderr",
     "output_type": "stream",
     "text": [
      "100%|████████████████████████████████████████████████████████████████████████████████| 183/183 [01:36<00:00,  1.90it/s]\n",
      "  0%|                                                                                          | 0/183 [00:00<?, ?it/s]"
     ]
    },
    {
     "name": "stdout",
     "output_type": "stream",
     "text": [
      "[80, 33, 17, 81, 35, 95, 49, 80, 27, 92, 76, 30, 90, 26]\n"
     ]
    },
    {
     "name": "stderr",
     "output_type": "stream",
     "text": [
      "100%|████████████████████████████████████████████████████████████████████████████████| 183/183 [01:36<00:00,  1.90it/s]\n",
      "  0%|                                                                                          | 0/183 [00:00<?, ?it/s]"
     ]
    },
    {
     "name": "stdout",
     "output_type": "stream",
     "text": [
      "[80, 33, 17, 81, 35, 95, 49, 80, 27, 92, 76, 29, 91, 26]\n"
     ]
    },
    {
     "name": "stderr",
     "output_type": "stream",
     "text": [
      "100%|████████████████████████████████████████████████████████████████████████████████| 183/183 [01:36<00:00,  1.89it/s]\n",
      "  0%|                                                                                          | 0/183 [00:00<?, ?it/s]"
     ]
    },
    {
     "name": "stdout",
     "output_type": "stream",
     "text": [
      "[80, 33, 17, 81, 35, 95, 49, 80, 27, 92, 76, 29, 92, 25]\n"
     ]
    },
    {
     "name": "stderr",
     "output_type": "stream",
     "text": [
      "100%|████████████████████████████████████████████████████████████████████████████████| 183/183 [01:36<00:00,  1.90it/s]\n",
      "  0%|                                                                                          | 0/183 [00:00<?, ?it/s]"
     ]
    },
    {
     "name": "stdout",
     "output_type": "stream",
     "text": [
      "[80, 33, 17, 81, 35, 95, 49, 80, 27, 92, 76, 30, 92, 24]\n"
     ]
    },
    {
     "name": "stderr",
     "output_type": "stream",
     "text": [
      "100%|████████████████████████████████████████████████████████████████████████████████| 183/183 [01:35<00:00,  1.91it/s]\n",
      "  0%|                                                                                          | 0/183 [00:00<?, ?it/s]"
     ]
    },
    {
     "name": "stdout",
     "output_type": "stream",
     "text": [
      "[80, 33, 17, 81, 35, 95, 50, 80, 27, 92, 76, 30, 92, 23]\n"
     ]
    },
    {
     "name": "stderr",
     "output_type": "stream",
     "text": [
      "100%|████████████████████████████████████████████████████████████████████████████████| 183/183 [01:37<00:00,  1.88it/s]"
     ]
    },
    {
     "name": "stdout",
     "output_type": "stream",
     "text": [
      "[80, 33, 17, 81, 35, 95, 50, 80, 27, 92, 76, 30, 92, 23]\n"
     ]
    },
    {
     "name": "stderr",
     "output_type": "stream",
     "text": [
      "\n"
     ]
    }
   ],
   "source": [
    "cur_best = d[0]\n",
    "sug_best = []\n",
    "flag = 0\n",
    "while flag == 0:\n",
    "    sug_best = bd(neighboring_distr(cur_best))\n",
    "    print(sug_best)\n",
    "    if cur_best == sug_best:\n",
    "        flag = 1\n",
    "    cur_best = sug_best"
   ]
  },
  {
   "cell_type": "code",
   "execution_count": 56,
   "metadata": {},
   "outputs": [],
   "source": [
    "ideal_distr = [80, 33, 17, 81, 35, 95, 50, 80, 27, 92, 76, 30, 92, 23]"
   ]
  },
  {
   "cell_type": "code",
   "execution_count": 57,
   "metadata": {},
   "outputs": [
    {
     "data": {
      "text/plain": [
       "[80, 47, 24, 80, 31, 96, 35, 83, 24, 90, 76, 33, 85, 27]"
      ]
     },
     "execution_count": 57,
     "metadata": {},
     "output_type": "execute_result"
    }
   ],
   "source": [
    "d[0]"
   ]
  },
  {
   "cell_type": "code",
   "execution_count": 58,
   "metadata": {},
   "outputs": [],
   "source": [
    "pred_data = pd.DataFrame.from_dict({'Lines' : lines, 'trains_on_lines' : ideal_distr})"
   ]
  },
  {
   "cell_type": "code",
   "execution_count": 59,
   "metadata": {},
   "outputs": [
    {
     "data": {
      "text/html": [
       "<div>\n",
       "<style scoped>\n",
       "    .dataframe tbody tr th:only-of-type {\n",
       "        vertical-align: middle;\n",
       "    }\n",
       "\n",
       "    .dataframe tbody tr th {\n",
       "        vertical-align: top;\n",
       "    }\n",
       "\n",
       "    .dataframe thead th {\n",
       "        text-align: right;\n",
       "    }\n",
       "</style>\n",
       "<table border=\"1\" class=\"dataframe\">\n",
       "  <thead>\n",
       "    <tr style=\"text-align: right;\">\n",
       "      <th></th>\n",
       "      <th>Lines</th>\n",
       "      <th>trains_on_lines</th>\n",
       "    </tr>\n",
       "  </thead>\n",
       "  <tbody>\n",
       "    <tr>\n",
       "      <th>0</th>\n",
       "      <td>Арбатско-Покровская линия</td>\n",
       "      <td>80</td>\n",
       "    </tr>\n",
       "    <tr>\n",
       "      <th>1</th>\n",
       "      <td>Большая кольцевая линия</td>\n",
       "      <td>33</td>\n",
       "    </tr>\n",
       "    <tr>\n",
       "      <th>2</th>\n",
       "      <td>Бутовская линия Лёгкого метро</td>\n",
       "      <td>17</td>\n",
       "    </tr>\n",
       "    <tr>\n",
       "      <th>3</th>\n",
       "      <td>Замоскворецкая линия</td>\n",
       "      <td>81</td>\n",
       "    </tr>\n",
       "    <tr>\n",
       "      <th>4</th>\n",
       "      <td>Калининская линия</td>\n",
       "      <td>35</td>\n",
       "    </tr>\n",
       "    <tr>\n",
       "      <th>5</th>\n",
       "      <td>Калужско-Рижская линия</td>\n",
       "      <td>95</td>\n",
       "    </tr>\n",
       "    <tr>\n",
       "      <th>6</th>\n",
       "      <td>Кольцевая линия</td>\n",
       "      <td>50</td>\n",
       "    </tr>\n",
       "    <tr>\n",
       "      <th>7</th>\n",
       "      <td>Люблинско-Дмитровская линия</td>\n",
       "      <td>80</td>\n",
       "    </tr>\n",
       "    <tr>\n",
       "      <th>8</th>\n",
       "      <td>Некрасовская линия</td>\n",
       "      <td>27</td>\n",
       "    </tr>\n",
       "    <tr>\n",
       "      <th>9</th>\n",
       "      <td>Серпуховско-Тимирязевская линия</td>\n",
       "      <td>92</td>\n",
       "    </tr>\n",
       "    <tr>\n",
       "      <th>10</th>\n",
       "      <td>Сокольническая линия</td>\n",
       "      <td>76</td>\n",
       "    </tr>\n",
       "    <tr>\n",
       "      <th>11</th>\n",
       "      <td>Солнцевская линия</td>\n",
       "      <td>30</td>\n",
       "    </tr>\n",
       "    <tr>\n",
       "      <th>12</th>\n",
       "      <td>Таганско-Краснопресненская линия</td>\n",
       "      <td>92</td>\n",
       "    </tr>\n",
       "    <tr>\n",
       "      <th>13</th>\n",
       "      <td>Филёвская линия</td>\n",
       "      <td>23</td>\n",
       "    </tr>\n",
       "  </tbody>\n",
       "</table>\n",
       "</div>"
      ],
      "text/plain": [
       "                               Lines  trains_on_lines\n",
       "0          Арбатско-Покровская линия               80\n",
       "1            Большая кольцевая линия               33\n",
       "2      Бутовская линия Лёгкого метро               17\n",
       "3               Замоскворецкая линия               81\n",
       "4                  Калининская линия               35\n",
       "5             Калужско-Рижская линия               95\n",
       "6                    Кольцевая линия               50\n",
       "7        Люблинско-Дмитровская линия               80\n",
       "8                 Некрасовская линия               27\n",
       "9    Серпуховско-Тимирязевская линия               92\n",
       "10              Сокольническая линия               76\n",
       "11                 Солнцевская линия               30\n",
       "12  Таганско-Краснопресненская линия               92\n",
       "13                   Филёвская линия               23"
      ]
     },
     "execution_count": 59,
     "metadata": {},
     "output_type": "execute_result"
    }
   ],
   "source": [
    "pred_data"
   ]
  },
  {
   "cell_type": "code",
   "execution_count": 60,
   "metadata": {},
   "outputs": [],
   "source": [
    "diff_distr = np.array(ideal_distr) - np.array(d[0])"
   ]
  },
  {
   "cell_type": "code",
   "execution_count": 61,
   "metadata": {},
   "outputs": [],
   "source": [
    "diff = pd.DataFrame.from_dict({'Lines' : lines, 'difference' : diff_distr})"
   ]
  },
  {
   "cell_type": "code",
   "execution_count": 62,
   "metadata": {
    "scrolled": true
   },
   "outputs": [
    {
     "data": {
      "text/html": [
       "<div>\n",
       "<style scoped>\n",
       "    .dataframe tbody tr th:only-of-type {\n",
       "        vertical-align: middle;\n",
       "    }\n",
       "\n",
       "    .dataframe tbody tr th {\n",
       "        vertical-align: top;\n",
       "    }\n",
       "\n",
       "    .dataframe thead th {\n",
       "        text-align: right;\n",
       "    }\n",
       "</style>\n",
       "<table border=\"1\" class=\"dataframe\">\n",
       "  <thead>\n",
       "    <tr style=\"text-align: right;\">\n",
       "      <th></th>\n",
       "      <th>Lines</th>\n",
       "      <th>difference</th>\n",
       "    </tr>\n",
       "  </thead>\n",
       "  <tbody>\n",
       "    <tr>\n",
       "      <th>0</th>\n",
       "      <td>Арбатско-Покровская линия</td>\n",
       "      <td>0</td>\n",
       "    </tr>\n",
       "    <tr>\n",
       "      <th>1</th>\n",
       "      <td>Большая кольцевая линия</td>\n",
       "      <td>-14</td>\n",
       "    </tr>\n",
       "    <tr>\n",
       "      <th>2</th>\n",
       "      <td>Бутовская линия Лёгкого метро</td>\n",
       "      <td>-7</td>\n",
       "    </tr>\n",
       "    <tr>\n",
       "      <th>3</th>\n",
       "      <td>Замоскворецкая линия</td>\n",
       "      <td>1</td>\n",
       "    </tr>\n",
       "    <tr>\n",
       "      <th>4</th>\n",
       "      <td>Калининская линия</td>\n",
       "      <td>4</td>\n",
       "    </tr>\n",
       "    <tr>\n",
       "      <th>5</th>\n",
       "      <td>Калужско-Рижская линия</td>\n",
       "      <td>-1</td>\n",
       "    </tr>\n",
       "    <tr>\n",
       "      <th>6</th>\n",
       "      <td>Кольцевая линия</td>\n",
       "      <td>15</td>\n",
       "    </tr>\n",
       "    <tr>\n",
       "      <th>7</th>\n",
       "      <td>Люблинско-Дмитровская линия</td>\n",
       "      <td>-3</td>\n",
       "    </tr>\n",
       "    <tr>\n",
       "      <th>8</th>\n",
       "      <td>Некрасовская линия</td>\n",
       "      <td>3</td>\n",
       "    </tr>\n",
       "    <tr>\n",
       "      <th>9</th>\n",
       "      <td>Серпуховско-Тимирязевская линия</td>\n",
       "      <td>2</td>\n",
       "    </tr>\n",
       "    <tr>\n",
       "      <th>10</th>\n",
       "      <td>Сокольническая линия</td>\n",
       "      <td>0</td>\n",
       "    </tr>\n",
       "    <tr>\n",
       "      <th>11</th>\n",
       "      <td>Солнцевская линия</td>\n",
       "      <td>-3</td>\n",
       "    </tr>\n",
       "    <tr>\n",
       "      <th>12</th>\n",
       "      <td>Таганско-Краснопресненская линия</td>\n",
       "      <td>7</td>\n",
       "    </tr>\n",
       "    <tr>\n",
       "      <th>13</th>\n",
       "      <td>Филёвская линия</td>\n",
       "      <td>-4</td>\n",
       "    </tr>\n",
       "  </tbody>\n",
       "</table>\n",
       "</div>"
      ],
      "text/plain": [
       "                               Lines  difference\n",
       "0          Арбатско-Покровская линия           0\n",
       "1            Большая кольцевая линия         -14\n",
       "2      Бутовская линия Лёгкого метро          -7\n",
       "3               Замоскворецкая линия           1\n",
       "4                  Калининская линия           4\n",
       "5             Калужско-Рижская линия          -1\n",
       "6                    Кольцевая линия          15\n",
       "7        Люблинско-Дмитровская линия          -3\n",
       "8                 Некрасовская линия           3\n",
       "9    Серпуховско-Тимирязевская линия           2\n",
       "10              Сокольническая линия           0\n",
       "11                 Солнцевская линия          -3\n",
       "12  Таганско-Краснопресненская линия           7\n",
       "13                   Филёвская линия          -4"
      ]
     },
     "execution_count": 62,
     "metadata": {},
     "output_type": "execute_result"
    }
   ],
   "source": [
    "diff"
   ]
  },
  {
   "cell_type": "code",
   "execution_count": 4,
   "metadata": {},
   "outputs": [],
   "source": [
    "from matplotlib import pyplot as plt"
   ]
  },
  {
   "cell_type": "code",
   "execution_count": 8,
   "metadata": {
    "scrolled": true
   },
   "outputs": [
    {
     "data": {
      "image/png": "[encoded data removed]",
      "text/plain": [
       "<Figure size 1152x432 with 1 Axes>"
      ]
     },
     "metadata": {},
     "output_type": "display_data"
    }
   ],
   "source": [
    "#Initially the distribution of trains looked like this:\n",
    "lines = np.array(['Сокольническая', 'Замоскворецкая', 'Арбатско-Покровская', 'Кольцевая', 'Калужско-Рижская', 'Таганско-Краснопресненская', 'Большая Кольцевая', 'Серпуховско-Тимирязевская', 'Бутовская', 'Филёвская', 'Калининская', 'Люблинско-Дмитровская', 'Солнцевская', 'Некрасовская'])\n",
    "colors = ['r', 'limegreen', 'steelblue', 'sienna', 'orange', 'purple', 'powderblue', 'grey', 'lightblue', 'lightskyblue', 'yellow', 'chartreuse', 'yellow', 'pink']\n",
    "fig, ax = plt.subplots()\n",
    "\n",
    "ax.bar(lines, trains['Количество поездов'], color = ['r', 'limegreen', 'steelblue', 'sienna', 'orange', 'purple', 'powderblue', 'grey', 'lightblue', 'lightskyblue', 'yellow', 'chartreuse', 'yellow', 'pink'])\n",
    "fig.set_facecolor('floralwhite')\n",
    "ax.set_facecolor('seashell')\n",
    "fig.set_figwidth(16)    #  ширина Figure\n",
    "fig.set_figheight(6)    #  высота Figure\n",
    "ax.set_title(\"The current distribution of trains by metro lines\")\n",
    "ax.set_ylabel(\"The number of trains on each line\")\n",
    "ax.bar_label(ax.containers[0], label_type='edge')\n",
    "plt.xticks(rotation=80)\n",
    "plt.show()"
   ]
  },
  {
   "cell_type": "code",
   "execution_count": 11,
   "metadata": {},
   "outputs": [
    {
     "data": {
      "image/png": "[encoded data removed]",
      "text/plain": [
       "<Figure size 1152x432 with 1 Axes>"
      ]
     },
     "metadata": {},
     "output_type": "display_data"
    }
   ],
   "source": [
    "# The optimal distribution looks like this:\n",
    "ideal_distr = np.array([76, 81, 80, 50, 95, 92, 33, 92, 17, 23, 35, 80, 30, 27])\n",
    "fig, ax = plt.subplots()\n",
    "\n",
    "ax.bar(lines, ideal_distr, color = ['r', 'limegreen', 'steelblue', 'sienna', 'orange', 'purple', 'powderblue', 'grey', 'lightblue', 'lightskyblue', 'yellow', 'chartreuse', 'yellow', 'pink'])\n",
    "fig.set_facecolor('floralwhite')\n",
    "ax.set_facecolor('seashell')\n",
    "fig.set_figwidth(16)    #  ширина Figure\n",
    "fig.set_figheight(6)    #  высота Figure\n",
    "ax.set_title(\"The ideal distribution of trains by metro lines\")\n",
    "ax.set_ylabel(\"The number of trains on each line\")\n",
    "ax.bar_label(ax.containers[0], label_type='edge')\n",
    "plt.xticks(rotation=80)\n",
    "plt.show()"
   ]
  },
  {
   "cell_type": "code",
   "execution_count": 13,
   "metadata": {},
   "outputs": [
    {
     "data": {
      "image/png": "[encoded data removed]",
      "text/plain": [
       "<Figure size 1152x432 with 1 Axes>"
      ]
     },
     "metadata": {},
     "output_type": "display_data"
    }
   ],
   "source": [
    "# The difference:\n",
    "difference = trains['Количество поездов'] - ideal_distr\n",
    "fig, ax = plt.subplots()\n",
    "\n",
    "ax.bar(lines, difference, color = ['r', 'limegreen', 'steelblue', 'sienna', 'orange', 'purple', 'powderblue', 'grey', 'lightblue', 'lightskyblue', 'yellow', 'chartreuse', 'yellow', 'pink'])\n",
    "fig.set_facecolor('floralwhite')\n",
    "ax.set_facecolor('seashell')\n",
    "fig.set_figwidth(16)    #  ширина Figure\n",
    "fig.set_figheight(6)    #  высота Figure\n",
    "ax.set_title(\"The difference\")\n",
    "ax.set_ylabel(\"The number of trains on each line\")\n",
    "ax.bar_label(ax.containers[0], label_type='edge')\n",
    "plt.xticks(rotation=80)\n",
    "plt.show()"
   ]
  },
  {
   "cell_type": "code",
   "execution_count": 12,
   "metadata": {},
   "outputs": [
    {
     "ename": "NameError",
     "evalue": "name 'diff' is not defined",
     "output_type": "error",
     "traceback": [
      "\u001b[1;31m---------------------------------------------------------------------------\u001b[0m",
      "\u001b[1;31mNameError\u001b[0m                                 Traceback (most recent call last)",
      "\u001b[1;32m~\\AppData\\Local\\Temp/ipykernel_24100/3682357851.py\u001b[0m in \u001b[0;36m<module>\u001b[1;34m\u001b[0m\n\u001b[1;32m----> 1\u001b[1;33m \u001b[0mdiff\u001b[0m\u001b[1;33m.\u001b[0m\u001b[0mto_excel\u001b[0m\u001b[1;33m(\u001b[0m\u001b[1;34m'difference_in_trains.xlsx'\u001b[0m\u001b[1;33m)\u001b[0m\u001b[1;33m\u001b[0m\u001b[1;33m\u001b[0m\u001b[0m\n\u001b[0m",
      "\u001b[1;31mNameError\u001b[0m: name 'diff' is not defined"
     ]
    }
   ],
   "source": [
    "pred_data.to_excel('predicted_trains.xlsx')"
   ]
  },
  {
   "cell_type": "code",
   "execution_count": 63,
   "metadata": {},
   "outputs": [],
   "source": [
    "diff.to_excel('difference_in_trains.xlsx')"
   ]
  },
  {
   "cell_type": "code",
   "execution_count": 64,
   "metadata": {},
   "outputs": [
    {
     "data": {
      "text/html": [
       "<div>\n",
       "<style scoped>\n",
       "    .dataframe tbody tr th:only-of-type {\n",
       "        vertical-align: middle;\n",
       "    }\n",
       "\n",
       "    .dataframe tbody tr th {\n",
       "        vertical-align: top;\n",
       "    }\n",
       "\n",
       "    .dataframe thead th {\n",
       "        text-align: right;\n",
       "    }\n",
       "</style>\n",
       "<table border=\"1\" class=\"dataframe\">\n",
       "  <thead>\n",
       "    <tr style=\"text-align: right;\">\n",
       "      <th></th>\n",
       "      <th>Lines</th>\n",
       "      <th>difference</th>\n",
       "    </tr>\n",
       "  </thead>\n",
       "  <tbody>\n",
       "    <tr>\n",
       "      <th>0</th>\n",
       "      <td>Арбатско-Покровская линия</td>\n",
       "      <td>0</td>\n",
       "    </tr>\n",
       "    <tr>\n",
       "      <th>1</th>\n",
       "      <td>Большая кольцевая линия</td>\n",
       "      <td>-14</td>\n",
       "    </tr>\n",
       "    <tr>\n",
       "      <th>2</th>\n",
       "      <td>Бутовская линия Лёгкого метро</td>\n",
       "      <td>-7</td>\n",
       "    </tr>\n",
       "    <tr>\n",
       "      <th>3</th>\n",
       "      <td>Замоскворецкая линия</td>\n",
       "      <td>1</td>\n",
       "    </tr>\n",
       "    <tr>\n",
       "      <th>4</th>\n",
       "      <td>Калининская линия</td>\n",
       "      <td>4</td>\n",
       "    </tr>\n",
       "    <tr>\n",
       "      <th>5</th>\n",
       "      <td>Калужско-Рижская линия</td>\n",
       "      <td>-1</td>\n",
       "    </tr>\n",
       "    <tr>\n",
       "      <th>6</th>\n",
       "      <td>Кольцевая линия</td>\n",
       "      <td>15</td>\n",
       "    </tr>\n",
       "    <tr>\n",
       "      <th>7</th>\n",
       "      <td>Люблинско-Дмитровская линия</td>\n",
       "      <td>-3</td>\n",
       "    </tr>\n",
       "    <tr>\n",
       "      <th>8</th>\n",
       "      <td>Некрасовская линия</td>\n",
       "      <td>3</td>\n",
       "    </tr>\n",
       "    <tr>\n",
       "      <th>9</th>\n",
       "      <td>Серпуховско-Тимирязевская линия</td>\n",
       "      <td>2</td>\n",
       "    </tr>\n",
       "    <tr>\n",
       "      <th>10</th>\n",
       "      <td>Сокольническая линия</td>\n",
       "      <td>0</td>\n",
       "    </tr>\n",
       "    <tr>\n",
       "      <th>11</th>\n",
       "      <td>Солнцевская линия</td>\n",
       "      <td>-3</td>\n",
       "    </tr>\n",
       "    <tr>\n",
       "      <th>12</th>\n",
       "      <td>Таганско-Краснопресненская линия</td>\n",
       "      <td>7</td>\n",
       "    </tr>\n",
       "    <tr>\n",
       "      <th>13</th>\n",
       "      <td>Филёвская линия</td>\n",
       "      <td>-4</td>\n",
       "    </tr>\n",
       "  </tbody>\n",
       "</table>\n",
       "</div>"
      ],
      "text/plain": [
       "                               Lines  difference\n",
       "0          Арбатско-Покровская линия           0\n",
       "1            Большая кольцевая линия         -14\n",
       "2      Бутовская линия Лёгкого метро          -7\n",
       "3               Замоскворецкая линия           1\n",
       "4                  Калининская линия           4\n",
       "5             Калужско-Рижская линия          -1\n",
       "6                    Кольцевая линия          15\n",
       "7        Люблинско-Дмитровская линия          -3\n",
       "8                 Некрасовская линия           3\n",
       "9    Серпуховско-Тимирязевская линия           2\n",
       "10              Сокольническая линия           0\n",
       "11                 Солнцевская линия          -3\n",
       "12  Таганско-Краснопресненская линия           7\n",
       "13                   Филёвская линия          -4"
      ]
     },
     "execution_count": 64,
     "metadata": {},
     "output_type": "execute_result"
    }
   ],
   "source": []
  },
  {
   "cell_type": "code",
   "execution_count": null,
   "metadata": {},
   "outputs": [],
   "source": []
  }
 ],
 "metadata": {
  "colab": {
   "provenance": []
  },
  "kernelspec": {
   "display_name": "Python 3 (ipykernel)",
   "language": "python",
   "name": "python3"
  },
  "language_info": {
   "codemirror_mode": {
    "name": "ipython",
    "version": 3
   },
   "file_extension": ".py",
   "mimetype": "text/x-python",
   "name": "python",
   "nbconvert_exporter": "python",
   "pygments_lexer": "ipython3",
   "version": "3.9.7"
  }
 },
 "nbformat": 4,
 "nbformat_minor": 1
}
